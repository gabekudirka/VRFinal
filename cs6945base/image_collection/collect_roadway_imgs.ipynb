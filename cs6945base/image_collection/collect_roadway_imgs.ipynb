{
 "cells": [
  {
   "cell_type": "code",
   "execution_count": 53,
   "metadata": {},
   "outputs": [],
   "source": [
    "import requests\n",
    "import shutil\n",
    "import json\n",
    "from pyproj import CRS, Transformer\n",
    "import math\n",
    "import numpy as np\n",
    "import csv\n",
    "import pandas as pd\n",
    "from scipy import spatial"
   ]
  },
  {
   "cell_type": "code",
   "execution_count": 54,
   "metadata": {},
   "outputs": [],
   "source": [
    "class RoadSegment():\n",
    "    def __init__(\n",
    "            self, \n",
    "            route_id,\n",
    "            geometry):\n",
    "        self.route_id = route_id\n",
    "        self.num_pts = len(geometry)\n",
    "        \n",
    "        self.pts = [(coords[1], coords[0]) for coords in geometry]\n",
    "\n",
    "        #Project the points from road data onto the same projection as aerial imagery\n",
    "        crs_4326 = CRS('epsg:4326')\n",
    "        crs_proj = CRS('epsg:26985')\n",
    "        transformer = Transformer.from_crs(crs_4326, crs_proj)\n",
    "        pts_proj = transformer.itransform(self.pts)\n",
    "        self.pts_proj = [pt for pt in pts_proj]\n",
    "        \n",
    "        #Calculate the distance between each section in the segment\n",
    "        self.sub_distances = []\n",
    "        for i, coords in enumerate(self.pts_proj):\n",
    "            if i == len(self.pts_proj) - 1:\n",
    "                break\n",
    "            x1, y1 = coords\n",
    "            x2, y2 = self.pts_proj[i+1]\n",
    "            distance = math.sqrt((x2 - x1)**2 + (y2 - y1)**2)\n",
    "            self.sub_distances.append(distance)\n",
    "        self.total_distance = sum(self.sub_distances)\n",
    "    "
   ]
  },
  {
   "cell_type": "code",
   "execution_count": 60,
   "metadata": {},
   "outputs": [],
   "source": [
    "with open('./data/roadways/Roadway_Block.geojson') as f:\n",
    "    dc_roadway_data = json.load(f)"
   ]
  },
  {
   "cell_type": "code",
   "execution_count": 64,
   "metadata": {},
   "outputs": [],
   "source": [
    "dc_road_segments = []\n",
    "for segment in dc_roadway_data['features']:\n",
    "    if segment['geometry']['type'] == 'MultiLineString':\n",
    "        for LineString in segment['geometry']['coordinates']:\n",
    "            segment_obj = RoadSegment(\n",
    "                segment['properties']['ROUTEID'],\n",
    "                LineString\n",
    "            )\n",
    "            dc_road_segments.append(segment_obj)\n",
    "    else:\n",
    "        segment_obj = RoadSegment(\n",
    "                    segment['properties']['ROUTEID'],\n",
    "                    segment['geometry']['coordinates']\n",
    "        )\n",
    "        dc_road_segments.append(segment_obj)"
   ]
  },
  {
   "cell_type": "code",
   "execution_count": null,
   "metadata": {},
   "outputs": [],
   "source": [
    "#find a point some distance between p1 and p2\n",
    "def interp_pts(p1, p2, dist):\n",
    "    x1, y1 = p1\n",
    "    x2, y2 = p2\n",
    "    total_dist = math.sqrt((x2 - x1)**2 + (y2 - y1)**2)\n",
    "    x3 = x1 + (dist / total_dist) * (x2 - x1)\n",
    "    y3 = y1 + (dist / total_dist) * (y2 - y1)\n",
    "\n",
    "    return x3, y3"
   ]
  },
  {
   "cell_type": "code",
   "execution_count": null,
   "metadata": {},
   "outputs": [],
   "source": [
    "def collect_img_origins(segment, img_dim, overlap):\n",
    "    img_origins = [segment.pts_proj[0], segment.pts_proj[-1]]\n",
    "    #automatically want images of both ends of segment subtract image dim to account for this\n",
    "    #divide by the dimension of an image minus overlap to determine number of images to take of segment\n",
    "    num_imgs = math.ceil((segment.total_distance - img_dim + (overlap * 2)) / (img_dim - (overlap * 2)))\n",
    "    if num_imgs == 0:\n",
    "        return img_origins\n",
    "\n",
    "    #Since we're rounding up, adjust the increment to evenly space out the images\n",
    "    increment = segment.total_distance / (num_imgs + 1)\n",
    "    #Find the distance from the start that each image should be taken at\n",
    "    img_distances = [(i+1) * increment for i in range(0, num_imgs)]    \n",
    "    #Find the section that each image should be centered around\n",
    "    sections = []\n",
    "    section_idx = 0\n",
    "    section_distance = segment.sub_distances[section_idx]\n",
    "    for distance in img_distances:\n",
    "        while distance > section_distance:\n",
    "            section_idx += 1\n",
    "            section_distance += segment.sub_distances[section_idx]\n",
    "        sections.append((distance, section_idx))\n",
    "    dist_accumulator = 0\n",
    "    accumulated_dists = [0]\n",
    "    for dist in segment.sub_distances:\n",
    "        dist_accumulator += dist\n",
    "        accumulated_dists.append(dist_accumulator)\n",
    "    #Find the center point that each image should be taken around\n",
    "    for distance, section_idx in sections:\n",
    "        p1 = segment.pts_proj[section_idx]\n",
    "        p2 = segment.pts_proj[section_idx + 1]\n",
    "        dist = distance - accumulated_dists[section_idx]\n",
    "        img_pt = interp_pts(p1, p2, dist)\n",
    "        img_origins.append(img_pt)\n",
    "\n",
    "    return img_origins"
   ]
  },
  {
   "cell_type": "code",
   "execution_count": 65,
   "metadata": {},
   "outputs": [],
   "source": [
    "BBOX_DIM = 60\n",
    "OVERLAP = 3\n",
    "\n",
    "all_img_coords = []\n",
    "for segment in dc_road_segments:\n",
    "    seg_img_coords = collect_img_origins(segment, BBOX_DIM, OVERLAP)\n",
    "    all_img_coords.extend(seg_img_coords)\n",
    "all_img_coords = np.asarray(all_img_coords)"
   ]
  },
  {
   "cell_type": "code",
   "execution_count": 66,
   "metadata": {},
   "outputs": [],
   "source": [
    "def find_clusters_kd(img_coords, min_dist):\n",
    "    kd_tree = spatial.KDTree(img_coords)\n",
    "    clusters_raw = kd_tree.query_ball_point(img_coords, min_dist)\n",
    "    #Remove duplicates\n",
    "    clusters_set = {tuple(cluster) for cluster in clusters_raw}\n",
    "    return clusters_set"
   ]
  },
  {
   "cell_type": "code",
   "execution_count": 10,
   "metadata": {},
   "outputs": [],
   "source": [
    "def find_clusters(img_coords, min_dist):\n",
    "    #Find all clusters\n",
    "    #Ensure clusters are not duplicates in different orders\n",
    "    clusters = set()\n",
    "    for i, coord1 in enumerate(img_coords):\n",
    "        x1, y1 = coord1\n",
    "        cluster = [i]\n",
    "        for j, coord2 in enumerate(img_coords):\n",
    "            if i == j:\n",
    "                continue\n",
    "            x2, y2 = coord2\n",
    "            distance = math.sqrt((x2 - x1)**2 + (y2 - y1)**2)\n",
    "            if distance < min_dist:\n",
    "                cluster.append(j)\n",
    "                \n",
    "        #Ensure some clusters are not subsets of other clusters\n",
    "        if len(cluster) > 1:\n",
    "            cluster = tuple(sorted(cluster))\n",
    "            cluster_set = set(cluster)\n",
    "            subset = False\n",
    "            for prev_cluster in clusters:\n",
    "                if cluster_set.issubset(prev_cluster):\n",
    "                    subset = True\n",
    "                    break\n",
    "            if not subset:\n",
    "                clusters.add(cluster)\n",
    "    \n",
    "#     clusters_nosubsets = []\n",
    "#     for i, cluster1 in enumerate(clusters):\n",
    "#         subset = False\n",
    "#         for j, cluster2 in enumerate(clusters):\n",
    "#             if i == j:\n",
    "#                 continue\n",
    "#             if cluster1.issubset(cluster2):\n",
    "#                 subset = True\n",
    "#                 break\n",
    "\n",
    "#         if not subset:\n",
    "#             clusters_nosubsets.append(cluster1)\n",
    "\n",
    "    return clusters"
   ]
  },
  {
   "cell_type": "code",
   "execution_count": 75,
   "metadata": {},
   "outputs": [],
   "source": [
    "def merge_clusters(clusters, img_coords):\n",
    "    new_coords = []\n",
    "    clustered_pts = set()\n",
    "    for cluster in clusters:\n",
    "        mean_x = 0\n",
    "        mean_y = 0\n",
    "        for pt_idx in cluster:\n",
    "            x, y = img_coords[pt_idx]\n",
    "            mean_x += x\n",
    "            mean_y += y\n",
    "            clustered_pts.add(pt_idx)\n",
    "        mean_x /= len(cluster)\n",
    "        mean_y /= len(cluster)        \n",
    "        new_coords.append((mean_x, mean_y))\n",
    "    \n",
    "    coords_idxs = set(np.arange(0, len(img_coords), 1))\n",
    "    non_clusterd_pts = coords_idxs.difference(clustered_pts)\n",
    "    for pt_idx in non_clusterd_pts:\n",
    "        new_coords.append(img_coords[pt_idx])\n",
    "    return np.asarray(new_coords)"
   ]
  },
  {
   "cell_type": "code",
   "execution_count": 115,
   "metadata": {},
   "outputs": [],
   "source": [
    "def project_to_latlng(pt):\n",
    "    crs_4326 = CRS('epsg:4326')\n",
    "    crs_proj = CRS('epsg:26985')\n",
    "    transformer = Transformer.from_crs(crs_proj, crs_4326)\n",
    "    pt_proj = transformer.transform(pt[0], pt[1])\n",
    "    \n",
    "    return pt_proj"
   ]
  },
  {
   "cell_type": "code",
   "execution_count": 90,
   "metadata": {},
   "outputs": [],
   "source": [
    "coord_clusters = find_clusters_kd(all_img_coords, 30)\n",
    "merged_coords = merge_clusters(coord_clusters, all_img_coords)\n",
    "\n",
    "coord_clusters = find_clusters_kd(merged_coords, 30)\n",
    "merged_coords = merge_clusters(coord_clusters, merged_coords)"
   ]
  },
  {
   "cell_type": "code",
   "execution_count": 116,
   "metadata": {},
   "outputs": [],
   "source": [
    "latlng_coords = [project_to_latlng(coord) for coord in merged_coords]"
   ]
  },
  {
   "cell_type": "code",
   "execution_count": 114,
   "metadata": {},
   "outputs": [
    {
     "data": {
      "text/plain": [
       "array([401157.02229817, 134826.1119209 ])"
      ]
     },
     "execution_count": 114,
     "metadata": {},
     "output_type": "execute_result"
    }
   ],
   "source": [
    "merged_coords[0]"
   ]
  },
  {
   "cell_type": "code",
   "execution_count": 78,
   "metadata": {},
   "outputs": [],
   "source": [
    "coord_clusters3 = find_clusters_kd(merged_coords, 30)\n",
    "merged_coords3 = merge_clusters(coord_clusters3, merged_coords)"
   ]
  },
  {
   "cell_type": "code",
   "execution_count": 81,
   "metadata": {},
   "outputs": [
    {
     "data": {
      "text/plain": [
       "array([[401157.02229817, 134826.1119209 ],\n",
       "       [395231.99192777, 135523.20492651],\n",
       "       [402338.58495538, 140581.829071  ],\n",
       "       ...,\n",
       "       [399646.73460134, 133210.63008556],\n",
       "       [400459.43838359, 130769.72001381],\n",
       "       [394887.55010729, 139296.13162613]])"
      ]
     },
     "execution_count": 81,
     "metadata": {},
     "output_type": "execute_result"
    }
   ],
   "source": [
    "merged_coords3"
   ]
  },
  {
   "cell_type": "code",
   "execution_count": 44,
   "metadata": {},
   "outputs": [],
   "source": [
    "coord_clusters1 = list(coord_clusters)\n",
    "coord_clusters2 = list(coord_clusters)\n",
    "\n",
    "for i, m in enumerate(coord_clusters1):\n",
    "    for j, n in enumerate(coord_clusters1):\n",
    "        if set(m).issubset(set(n)) and i != j:\n",
    "            coord_clusters2.remove(m)\n",
    "            break"
   ]
  },
  {
   "cell_type": "code",
   "execution_count": 46,
   "metadata": {},
   "outputs": [],
   "source": [
    "merged_coords2 = merge_clusters(coord_clusters2, all_img_coords)"
   ]
  },
  {
   "cell_type": "code",
   "execution_count": 92,
   "metadata": {},
   "outputs": [],
   "source": [
    "def convert_to_bbox(img_coord, dim):\n",
    "    r = dim / 2\n",
    "    xmin = img_coord[0] - r\n",
    "    xmax = img_coord[0] + r\n",
    "    ymin = img_coord[1] - r\n",
    "    ymax = img_coord[1] + r\n",
    "    \n",
    "    return (xmin, ymin, xmax, ymax)"
   ]
  },
  {
   "cell_type": "code",
   "execution_count": 118,
   "metadata": {},
   "outputs": [],
   "source": [
    "image_bboxes = [(convert_to_bbox(coord, BBOX_DIM), latlng) for coord, latlng in zip(merged_coords, latlng_coords)]\n",
    "region_bbox = (399697, 135518, 401430, 136935)\n",
    "bboxes_in_region = [coord for coord in image_bboxes if coord[0][0] > region_bbox[0] and coord[0][1] > region_bbox[1]\n",
    "                    and coord[0][2] < region_bbox[2] and coord[0][3] < region_bbox[3]]"
   ]
  },
  {
   "cell_type": "code",
   "execution_count": 121,
   "metadata": {},
   "outputs": [],
   "source": [
    "latlng_in_region = [coord[1] for coord in bboxes_in_region]\n",
    "bboxes_in_region = [coord[0] for coord in bboxes_in_region]"
   ]
  },
  {
   "cell_type": "code",
   "execution_count": 126,
   "metadata": {},
   "outputs": [],
   "source": [
    "df_region = pd.DataFrame(bboxes_in_region, columns=['xmin', 'ymin', 'xmax', 'ymax'])\n",
    "image_filenames = ['image_' + str(i) + '.png' for i in range(len(bboxes_in_region))]\n",
    "df_region['filename'] = image_filenames\n",
    "df_region['lat'] = [coord[0] for coord in latlng_in_region]\n",
    "df_region['lng'] = [coord[1] for coord in latlng_in_region]"
   ]
  },
  {
   "cell_type": "code",
   "execution_count": 128,
   "metadata": {},
   "outputs": [],
   "source": [
    "df_region.to_csv('region_image_coords.csv', index=False)"
   ]
  },
  {
   "cell_type": "code",
   "execution_count": 58,
   "metadata": {},
   "outputs": [],
   "source": [
    "def cluster_high_dim_images(img_coords, img_dim, high_dim=4100):\n",
    "    r = high_dim / 2 - (img_dim / 2)\n",
    "    kd_tree = spatial.KDTree(img_coords)\n",
    "    clusters_raw = kd_tree.query_ball_point(img_coords, r)\n",
    "    clusters_set = {tuple(cluster) for cluster in clusters_raw}\n",
    "    return clusters_set"
   ]
  },
  {
   "cell_type": "code",
   "execution_count": 60,
   "metadata": {},
   "outputs": [],
   "source": [
    "def removeSublists(l):\n",
    "    for m in l:\n",
    "        for n in l:\n",
    "            if set(m).issubset(set(n)) and m != n:\n",
    "                l2.remove(m)\n",
    "                break"
   ]
  },
  {
   "cell_type": "code",
   "execution_count": 61,
   "metadata": {},
   "outputs": [],
   "source": [
    "high_dim_img_clusters = cluster_high_dim_images(merged_coords, 100)"
   ]
  },
  {
   "cell_type": "code",
   "execution_count": null,
   "metadata": {},
   "outputs": [],
   "source": [
    "high_dim_img_clusters_lst1 = [cluster for cluster in high_dim_img_clusters]\n",
    "high_dim_img_clusters_lst2 = [cluster for cluster in high_dim_img_clusters]\n",
    "\n",
    "for m in high_dim_img_clusters_lst1:\n",
    "        for n in high_dim_img_clusters_lst1:\n",
    "            if set(m).issubset(set(n)) and m != n:\n",
    "                high_dim_img_clusters_lst2.remove(m)\n",
    "                break"
   ]
  },
  {
   "cell_type": "code",
   "execution_count": null,
   "metadata": {},
   "outputs": [],
   "source": [
    "merged = removeSublist(high_dim_img_clusters)"
   ]
  },
  {
   "cell_type": "code",
   "execution_count": 66,
   "metadata": {},
   "outputs": [
    {
     "data": {
      "text/plain": [
       "3785"
      ]
     },
     "execution_count": 66,
     "metadata": {},
     "output_type": "execute_result"
    }
   ],
   "source": [
    "len(merged[1])"
   ]
  },
  {
   "cell_type": "code",
   "execution_count": null,
   "metadata": {},
   "outputs": [],
   "source": [
    "len(high_dim_img_clusters_lst2)"
   ]
  },
  {
   "cell_type": "code",
   "execution_count": 54,
   "metadata": {},
   "outputs": [
    {
     "data": {
      "text/plain": [
       "18081"
      ]
     },
     "execution_count": 54,
     "metadata": {},
     "output_type": "execute_result"
    }
   ],
   "source": [
    "len(intersection_coord_clusters)"
   ]
  },
  {
   "cell_type": "code",
   "execution_count": 44,
   "metadata": {},
   "outputs": [],
   "source": [
    "with open('img_coords_60_4_30.csv', 'w') as f:\n",
    "    writer = csv.writer(f)\n",
    "    writer.writerow(['x_center', 'y_center'])\n",
    "    for coord in img_coords:\n",
    "        writer.writerow([coord[0], coord[1]])"
   ]
  },
  {
   "cell_type": "code",
   "execution_count": 55,
   "metadata": {},
   "outputs": [],
   "source": [
    "intersection_img_coords_ = merge_clusters(intersection_coord_clusters, intersection_img_coords)"
   ]
  },
  {
   "cell_type": "code",
   "execution_count": 7,
   "metadata": {},
   "outputs": [
    {
     "ename": "NameError",
     "evalue": "name 'intersection_img_coords_' is not defined",
     "output_type": "error",
     "traceback": [
      "\u001b[0;31m---------------------------------------------------------------------------\u001b[0m",
      "\u001b[0;31mNameError\u001b[0m                                 Traceback (most recent call last)",
      "Cell \u001b[0;32mIn[7], line 1\u001b[0m\n\u001b[0;32m----> 1\u001b[0m \u001b[38;5;28mlen\u001b[39m(\u001b[43mintersection_img_coords_\u001b[49m)\n",
      "\u001b[0;31mNameError\u001b[0m: name 'intersection_img_coords_' is not defined"
     ]
    }
   ],
   "source": [
    "len(intersection_img_coords_)"
   ]
  },
  {
   "cell_type": "code",
   "execution_count": 18,
   "metadata": {},
   "outputs": [
    {
     "data": {
      "text/plain": [
       "75815"
      ]
     },
     "execution_count": 18,
     "metadata": {},
     "output_type": "execute_result"
    }
   ],
   "source": [
    "len(intersection_img_coords)"
   ]
  }
 ],
 "metadata": {
  "kernelspec": {
   "display_name": "Python 3 (ipykernel)",
   "language": "python",
   "name": "python3"
  },
  "language_info": {
   "codemirror_mode": {
    "name": "ipython",
    "version": 3
   },
   "file_extension": ".py",
   "mimetype": "text/x-python",
   "name": "python",
   "nbconvert_exporter": "python",
   "pygments_lexer": "ipython3",
   "version": "3.10.6"
  }
 },
 "nbformat": 4,
 "nbformat_minor": 1
}
